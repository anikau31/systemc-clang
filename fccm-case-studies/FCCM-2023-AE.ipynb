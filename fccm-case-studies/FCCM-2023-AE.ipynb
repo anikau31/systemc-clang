{
 "cells": [
  {
   "cell_type": "markdown",
   "id": "a5591a73",
   "metadata": {},
   "source": [
    "# FCCM 2023 Artifact Evaluation\n",
    "\n",
    "After the generation and upload of all the bitstreams, you may continue with this jupyter notebook, where it runs the bitstream on board.\n",
    "\n",
    "You may execute the cells one by one to go through each of the case studies."
   ]
  },
  {
   "cell_type": "code",
   "execution_count": 3,
   "id": "ba3ffbf7",
   "metadata": {},
   "outputs": [
    {
     "name": "stdout",
     "output_type": "stream",
     "text": [
      "The autoreload extension is already loaded. To reload it, use:\n",
      "  %reload_ext autoreload\n"
     ]
    }
   ],
   "source": [
    "%load_ext autoreload\n",
    "%autoreload 2\n"
   ]
  },
  {
   "cell_type": "code",
   "execution_count": 4,
   "id": "fcbf6f48",
   "metadata": {},
   "outputs": [],
   "source": [
    "\n",
    "from pynq import PL\n",
    "from pynq import Overlay\n",
    "import pynq\n",
    "import numpy as np\n",
    "import pandas as pd\n",
    "import random\n",
    "from pathlib import Path\n",
    "from MCDMA import MCDMADriver, ChannelTransferDescription\n",
    "from utils import load_memory\n",
    "\n",
    "# SOURCE = \"ae-prebuilt\"\n",
    "SOURCE = \"ae\"\n",
    "# ol = Overlay(\"../moving_average.xclbin\")"
   ]
  },
  {
   "cell_type": "code",
   "execution_count": null,
   "id": "4720e69c",
   "metadata": {},
   "outputs": [],
   "source": []
  },
  {
   "cell_type": "markdown",
   "id": "60af9db4",
   "metadata": {},
   "source": [
    "# ZHW Encoder\n",
    "\n",
    "E1/E2"
   ]
  },
  {
   "cell_type": "code",
   "execution_count": null,
   "id": "529d36f1",
   "metadata": {},
   "outputs": [
    {
     "name": "stdout",
     "output_type": "stream",
     "text": [
      "Overlay to load: /home/xilinx/ae/DS_top_z3_d64.bit\n"
     ]
    }
   ],
   "source": [
    "\n",
    "for D in [64]:\n",
    "    # Downloading bitstream\n",
    "    ol_name = \"/home/xilinx/{}/DS_top_z3_d{}.bit\".format(SOURCE, D)\n",
    "    print(\"Overlay to load: {}\".format(ol_name))\n",
    "    ol = Overlay(ol_name)\n",
    "    if D == 64:\n",
    "        in_file = \"/home/xilinx/{}/data/z3data/tc.6.dim.2/m_port.out\".format(SOURCE)\n",
    "        out_file = \"/home/xilinx/{}/data/z3data/tc.6.dim.2/s_port.out\".format(SOURCE)\n",
    "    elif D == 32:\n",
    "        in_file = \"/home/xilinx/{}/data/z3data/z3.mem\".format(SOURCE)\n",
    "        out_file = \"/home/xilinx/{}/data/z3data/z3_encoded.mem\".format(SOURCE)\n",
    "        \n",
    "    \n",
    "    # Load input data\n",
    "    inp_data = load_memory(in_file, bytes_per_line=8 if D == 64 else 4)\n",
    "    out_data_golden = load_memory(out_file, bytes_per_line=8 if D == 64 else 4)\n",
    "    out_data = pynq.allocate(shape=inp_data.shape, dtype=inp_data.dtype)\n",
    "    \n",
    "    # DMA transfer/Control\n",
    "    dma = ol.axi_mcdma_0\n",
    "    gpio = ol.axi_gpio_0  # gpio for reset\n",
    "\n",
    "    gpio.channel1.write(0, mask=0xffffffff)  # reset active low\n",
    "    gpio.channel1.write(1, mask=0xffffffff)  # deassert reset\n",
    "\n",
    "    # Prepare for receiving\n",
    "    logging.debug('Preparing for receving data')\n",
    "\n",
    "\n",
    "    # Currently, sending data flits that are too large hangs the MCDMA engine\n",
    "    dma.sendchannel.reset()\n",
    "    dma.recvchannel.reset()\n",
    "    send_description = [\n",
    "        ChannelTransferDescription(channel_id=0, array=inp_data, nbytes=inp_data.size * inp_data.itemsize),  # Sent over channel 0\n",
    "    ]\n",
    "\n",
    "    recv_description = [\n",
    "        ChannelTransferDescription(channel_id=0, array=out_data, nbytes=out_data.size * out_data.itemsize)\n",
    "    ]\n",
    "\n",
    "    dma.recvchannel.transfer(recv_description)\n",
    "    dma.sendchannel.transfer(send_description)\n",
    "\n",
    "    logging.debug('Waiting to receive')\n",
    "    dma.sendchannel.wait()\n",
    "    dma.recvchannel.wait()\n",
    "    # dma.recvchannel.wait()\n",
    "    out_data.invalidate()\n",
    "    for i in range(out_data.view(np.uint64).shape[0]):\n",
    "        if args.verbose:\n",
    "            print(hex(out_data_golden.view(np.uint64)[i]), hex(out_data.view(np.uint64)[i]))\n",
    "        assert out_data_golden.view(np.uint64)[i] == out_data.view(np.uint64)[i]\n",
    "\n",
    "    print('Test passed')"
   ]
  },
  {
   "cell_type": "code",
   "execution_count": null,
   "id": "470be8d2",
   "metadata": {},
   "outputs": [],
   "source": []
  },
  {
   "cell_type": "code",
   "execution_count": null,
   "id": "99c8e607",
   "metadata": {},
   "outputs": [],
   "source": []
  },
  {
   "cell_type": "markdown",
   "id": "135cb567",
   "metadata": {},
   "source": [
    "# ZHW Decoder\n",
    "\n",
    "D1/D2"
   ]
  },
  {
   "cell_type": "code",
   "execution_count": null,
   "id": "b18f8bbd",
   "metadata": {},
   "outputs": [],
   "source": [
    "LEN = 16\n",
    "for D in [32, 64]:\n",
    "    ol_name = \"/home/xilinx/{}/DS_top_z7_d{}/DS_top_z7_d{}.bit\".format(SOURCE, D, D)\n",
    "    print(\"Overlay to load: {}\".format(ol_name))\n",
    "    "
   ]
  },
  {
   "cell_type": "markdown",
   "id": "22350b40",
   "metadata": {},
   "source": [
    "# Moving average"
   ]
  },
  {
   "cell_type": "markdown",
   "id": "8e524def",
   "metadata": {},
   "source": [
    "## MA-Div"
   ]
  },
  {
   "cell_type": "code",
   "execution_count": 17,
   "id": "fde91fc2",
   "metadata": {},
   "outputs": [
    {
     "name": "stdout",
     "output_type": "stream",
     "text": [
      "Overlay to load: /home/xilinx/ae/moving-average-d16-w16/moving-average.xclbin\n",
      "<pynq.pl_server.embedded_device.EmbeddedDevice object at 0xffff84468b80>\n",
      "CTRL + CALLABLE\n",
      "Warning: omitting streams for designs\n",
      "[ 0  1  2  3  4  5  6  7  8  9 10 11 12 13 14 15 16 17 18 19 20 21 22 23\n",
      " 24 25 26 27 28 29 30 31]\n",
      "[0 0 0 0 0 0 0 0 0 0 0 0 0 0 0 0 0 0 0 0 0 0 0 0 0 0 0 0 0 0 0 0]\n",
      "[0 0 0 0 0 0 1 1 1 2 2 2 2 3 3 3 4 4 4 5 5 5 5 6 6 6 7 7 7 7 8 8]\n",
      "Overlay to load: /home/xilinx/ae/moving-average-d16-w64/moving-average.xclbin\n",
      "<pynq.pl_server.embedded_device.EmbeddedDevice object at 0xffff84468b80>\n",
      "CTRL + CALLABLE\n",
      "Warning: omitting streams for designs\n",
      "[ 0  1  2  3  4  5  6  7  8  9 10 11 12 13 14 15 16 17 18 19 20 21 22 23\n",
      " 24 25 26 27 28 29 30 31]\n",
      "[0 0 0 0 0 0 0 0 0 0 0 0 0 0 0 0 0 0 0 0 0 0 0 0 0 0 0 0 0 0 0 0]\n",
      "[0 0 0 0 0 0 0 0 1 1 1 1 1 1 1 1 2 2 2 2 3 3 3 3 4 4 4 4 5 5 5 6]\n",
      "Overlay to load: /home/xilinx/ae/moving-average-d64-w16/moving-average.xclbin\n",
      "<pynq.pl_server.embedded_device.EmbeddedDevice object at 0xffff84468b80>\n",
      "CTRL + CALLABLE\n",
      "Warning: omitting streams for designs\n",
      "[ 0  1  2  3  4  5  6  7  8  9 10 11 12 13 14 15 16 17 18 19 20 21 22 23\n",
      " 24 25 26 27 28 29 30 31]\n",
      "[0 0 0 0 0 0 0 0 0 0 0 0 0 0 0 0 0 0 0 0 0 0 0 0 0 0 0 0 0 0 0 0]\n",
      "[ 0  0  1  1  2  2  3  3  4  4  5  5  6  6  7  7  8  9 10 11 12 13 14 15\n",
      " 16 17 18 19 20 21 22 23]\n",
      "Overlay to load: /home/xilinx/ae/moving-average-d64-w64/moving-average.xclbin\n",
      "<pynq.pl_server.embedded_device.EmbeddedDevice object at 0xffff84468b80>\n",
      "CTRL + CALLABLE\n",
      "Warning: omitting streams for designs\n",
      "[ 0  1  2  3  4  5  6  7  8  9 10 11 12 13 14 15 16 17 18 19 20 21 22 23\n",
      " 24 25 26 27 28 29 30 31]\n",
      "[0 0 0 0 0 0 0 0 0 0 0 0 0 0 0 0 0 0 0 0 0 0 0 0 0 0 0 0 0 0 0 0]\n",
      "[ 0  0  1  1  2  2  3  3  4  4  5  5  6  6  7  7  8  8  9  9 10 10 11 11\n",
      " 12 12 13 13 14 14 15 15]\n"
     ]
    }
   ],
   "source": [
    "LEN = 32\n",
    "for dt in [16,64]:\n",
    "    for dw in [16,64]:\n",
    "        def rolling_floor_mean(window):\n",
    "            return np.floor(np.mean(window)).astype(np.uint64)\n",
    "        \n",
    "        ol_name = \"/home/xilinx/{}/moving-average-d{}-w{}/moving-average.xclbin\".format(SOURCE, dt, dw)\n",
    "        print(\"Overlay to load: {}\".format(ol_name))\n",
    "        ol = Overlay(ol_name)\n",
    "        data = pynq.allocate((LEN, ), np.uint64, target=ol.HP0)\n",
    "        data[:] = np.arange(LEN)\n",
    "        mem_out = pynq.allocate((LEN * 3, ), np.uint64, target=ol.HP0)\n",
    "        starter = ol.starter_1\n",
    "        handle = starter.start(data, mem_out, LEN)\n",
    "        handle.wait()\n",
    "        \n",
    "        m_max = mem_out[:LEN]\n",
    "        m_min = mem_out[LEN:2 * LEN]\n",
    "        m_avg = mem_out[2 * LEN:3 * LEN]\n",
    "        \n",
    "        if dt == 16:\n",
    "            m_max = np.bitwise_and(m_max, 0xffff)\n",
    "            m_avg = np.bitwise_and(m_avg, 0xffff)\n",
    "            m_min = np.bitwise_and(m_min, 0xffff)\n",
    "\n",
    "        print(m_max)\n",
    "        print(m_min)\n",
    "        print(m_avg)\n",
    "    "
   ]
  },
  {
   "cell_type": "markdown",
   "id": "1e05ae9c",
   "metadata": {},
   "source": [
    "## MA-Shift"
   ]
  },
  {
   "cell_type": "code",
   "execution_count": null,
   "id": "2662d778",
   "metadata": {},
   "outputs": [],
   "source": [
    "LEN = 16\n",
    "for dt in [16, 64]:\n",
    "    for dw in [16, 64]:\n",
    "        ol_name = \"/home/xilinx/{}/moving-average-shift-d{}-w{}/moving-average.xclbin\".format(SOURCE, dt, dw)\n",
    "        print(\"Overlay to load: {}\".format(ol_name))\n",
    "        ol = Overlay(ol_name)\n",
    "        data = pynq.allocate((LEN, ), np.uint64, target=ol.HP0)\n",
    "        data[:] = np.arange(LEN)\n",
    "        mem_out = pynq.allocate((LEN * 3, ), np.uint64, target=ol.HP0)\n",
    "        starter = ol.starter_1\n",
    "        handle = starter.start(data, mem_out, LEN)\n",
    "        handle.wait()\n",
    "        \n",
    "        m_max = mem_out[:LEN]\n",
    "        m_min = mem_out[LEN:2 * LEN]\n",
    "        m_avg = mem_out[2 * LEN:3 * LEN]\n",
    "        \n",
    "        if dt == 16:\n",
    "            m_max = np.bitwise_and(m_max, 0xffff)\n",
    "            m_avg = np.bitwise_and(m_avg, 0xffff)\n",
    "            m_min = np.bitwise_and(m_min, 0xffff)\n",
    "\n",
    "        print(m_max, m_min, m_avg)\n",
    "    "
   ]
  },
  {
   "cell_type": "markdown",
   "id": "7713f5b8",
   "metadata": {},
   "source": [
    "## MA-Div-Sub"
   ]
  },
  {
   "cell_type": "code",
   "execution_count": 22,
   "id": "bb1c9792",
   "metadata": {},
   "outputs": [
    {
     "name": "stdout",
     "output_type": "stream",
     "text": [
      "Overlay to load: /home/xilinx/ae/moving-average-pipe-d16-w16/moving-average.xclbin\n",
      "<pynq.pl_server.embedded_device.EmbeddedDevice object at 0xffff84859000>\n",
      "CTRL + CALLABLE\n",
      "Warning: omitting streams for designs\n",
      "[ 0  1  2  3  4  5  6  7  8  9 10 11 12 13 14 15]\n",
      "[0 0 0 0 0 0 0 0 0 0 0 0 0 0 0 0]\n",
      "[0 0 0 0 0 0 1 1 1 2 2 2 2 3 3 3]\n",
      "Overlay to load: /home/xilinx/ae/moving-average-pipe-d16-w64/moving-average.xclbin\n",
      "<pynq.pl_server.embedded_device.EmbeddedDevice object at 0xffff84859000>\n",
      "CTRL + CALLABLE\n",
      "Warning: omitting streams for designs\n",
      "[ 0  1  2  3  4  5  6  7  8  9 10 11 12 13 14 15]\n",
      "[0 0 0 0 0 0 0 0 0 0 0 0 0 0 0 0]\n",
      "[0 0 0 0 0 0 0 0 1 1 1 1 1 1 1 1]\n",
      "Overlay to load: /home/xilinx/ae/moving-average-pipe-d64-w16/moving-average.xclbin\n",
      "<pynq.pl_server.embedded_device.EmbeddedDevice object at 0xffff84859000>\n",
      "CTRL + CALLABLE\n",
      "Warning: omitting streams for designs\n",
      "[ 1  2  3  4  5  6  7  8  9 10 11 12 13 14 15 15]\n",
      "[0 0 0 0 0 0 0 0 0 0 0 0 0 0 0 0]\n",
      "[0 0 1 1 2 2 3 3 4 4 5 5 6 6 7 7]\n",
      "Overlay to load: /home/xilinx/ae/moving-average-pipe-d64-w64/moving-average.xclbin\n",
      "<pynq.pl_server.embedded_device.EmbeddedDevice object at 0xffff84859000>\n",
      "CTRL + CALLABLE\n",
      "Warning: omitting streams for designs\n",
      "[ 1  2  3  4  5  6  7  8  9 10 11 12 13 14 15 15]\n",
      "[0 0 0 0 0 0 0 0 0 0 0 0 0 0 0 0]\n",
      "[0 0 1 1 2 2 3 3 4 4 5 5 6 6 7 7]\n"
     ]
    }
   ],
   "source": [
    "LEN = 16\n",
    "for dt in [16, 64]:\n",
    "    for dw in [16, 64]:\n",
    "        ol_name = \"/home/xilinx/{}/moving-average-pipe-d{}-w{}/moving-average.xclbin\".format(SOURCE, dt, dw)\n",
    "        print(\"Overlay to load: {}\".format(ol_name))\n",
    "        ol = Overlay(ol_name)\n",
    "        data = pynq.allocate((LEN, ), np.uint64, target=ol.HP0)\n",
    "        data[:] = np.arange(LEN)\n",
    "        mem_out = pynq.allocate((LEN * 3, ), np.uint64, target=ol.HP0)\n",
    "        starter = ol.starter_1\n",
    "        handle = starter.start(data, mem_out, LEN)\n",
    "        handle.wait()\n",
    "        \n",
    "        \n",
    "        m_max = mem_out[:LEN]\n",
    "        m_min = mem_out[LEN:2 * LEN]\n",
    "        m_avg = mem_out[2 * LEN:3 * LEN]\n",
    "        \n",
    "        if dt == 16:\n",
    "            m_max = np.bitwise_and(m_max, 0xffff)\n",
    "            m_avg = np.bitwise_and(m_avg, 0xffff)\n",
    "            m_min = np.bitwise_and(m_min, 0xffff)\n",
    "\n",
    "        print(m_max)\n",
    "        print(m_min)\n",
    "        print(m_avg)\n",
    "    "
   ]
  },
  {
   "cell_type": "code",
   "execution_count": null,
   "id": "38384bb7",
   "metadata": {},
   "outputs": [],
   "source": []
  },
  {
   "cell_type": "markdown",
   "id": "8d84f9a6",
   "metadata": {},
   "source": [
    "# Matrix multiplication"
   ]
  },
  {
   "cell_type": "code",
   "execution_count": 17,
   "id": "4f3c8628",
   "metadata": {},
   "outputs": [
    {
     "name": "stdout",
     "output_type": "stream",
     "text": [
      "Overlay to load: /home/xilinx/ae/mm-n8-d8/mm.xclbin\n",
      "<pynq.pl_server.embedded_device.EmbeddedDevice object at 0xffff84859000>\n",
      "CTRL + CALLABLE\n",
      "Warning: omitting streams for designs\n",
      "Same?:  True\n",
      "Overlay to load: /home/xilinx/ae/mm-n16-d8/mm.xclbin\n",
      "<pynq.pl_server.embedded_device.EmbeddedDevice object at 0xffff84859000>\n",
      "CTRL + CALLABLE\n",
      "Warning: omitting streams for designs\n",
      "Same?:  True\n"
     ]
    }
   ],
   "source": [
    "for N in [8, 16]:\n",
    "    M = N\n",
    "    ol_name = \"/home/xilinx/{}/mm-n{}-d8/mm.xclbin\".format(SOURCE, N)\n",
    "    print(\"Overlay to load: {}\".format(ol_name))\n",
    "    ol = Overlay(ol_name)\n",
    "    \n",
    "    # load inputs\n",
    "    in_buffer = pynq.allocate(shape=(2*M*M,), dtype=np.uint32, target=ol.HP0)\n",
    "    out_buffer = pynq.allocate(shape=(M*M,), dtype=np.uint32, target=ol.HP0)\n",
    "    N1 = N\n",
    "    N2 = N\n",
    "\n",
    "    for i in range(0,len(in_buffer)):\n",
    "        in_buffer[i]=random.randint(1,9) \n",
    "\n",
    "    A = np.zeros((M,M))\n",
    "    for i in range(M*M):\n",
    "        base_row = int(i*N1/(M*M))\n",
    "        base_column = int(int(i%M)/N1)\n",
    "        column=int(base_column*N1) + (int(i%N1))\n",
    "        row = base_row + int((i%((M*M)/N1))/M)*N1\n",
    "        A[row][column] = in_buffer[i]\n",
    "\n",
    "\n",
    "    B = np.zeros((M,M))\n",
    "    for i in range(M*M):\n",
    "        base_column = int(i*N2/(M*M))\n",
    "        base_row = int(int(i%M)/N2)\n",
    "        row=int(base_row*N2) + (int(i%N2))\n",
    "        column = base_column + int((i%((M*M)/N2))/M)*N2\n",
    "        B[row][column] = in_buffer[i+M*M]\n",
    "        \n",
    "    in_buffer.sync_to_device()\n",
    "    starter = ol.mms_1\n",
    "    handle = starter.start(in_buffer, out_buffer, 2*M*M, M*M)\n",
    "    handle.wait()\n",
    "    out_buffer.sync_from_device()\n",
    "    \n",
    "    \n",
    "    D = np.zeros((M,M))\n",
    "    for i in range(M*M):\n",
    "        base_row = int(i*N1/(M*M))\n",
    "        base_column = int(int(i%M)/N2)\n",
    "        column=int(base_column*N2) + (N2-1-int(i%N2))\n",
    "        row = base_row + int((i%((M*M)/N1))/M)*N1\n",
    "        D[row][column] = out_buffer[i]\n",
    "\n",
    "    \n",
    "    D_truth = np.matmul(A,B)\n",
    "    \n",
    "    print('Same?: ', np.all(D == D_truth))\n"
   ]
  },
  {
   "cell_type": "markdown",
   "id": "9d02f40e",
   "metadata": {},
   "source": [
    "# Divider\n",
    "\n",
    "The divider example is for showcasing the use of SystemC threads\n"
   ]
  },
  {
   "cell_type": "code",
   "execution_count": 7,
   "id": "4000f817",
   "metadata": {},
   "outputs": [
    {
     "name": "stdout",
     "output_type": "stream",
     "text": [
      "Overlay to load: /home/xilinx/ae/div-8/divider.xclbin\n"
     ]
    }
   ],
   "source": [
    "\n",
    "\n"
   ]
  },
  {
   "cell_type": "code",
   "execution_count": 16,
   "id": "faf3918d",
   "metadata": {},
   "outputs": [
    {
     "name": "stdout",
     "output_type": "stream",
     "text": [
      "Overlay to load: /home/xilinx/ae/div-8/divider.xclbin\n",
      "<pynq.pl_server.embedded_device.EmbeddedDevice object at 0xffff84859000>\n",
      "CTRL + CALLABLE\n",
      "Warning: omitting streams for designs\n",
      "True\n",
      "Overlay to load: /home/xilinx/ae/div-16/divider.xclbin\n",
      "<pynq.pl_server.embedded_device.EmbeddedDevice object at 0xffff84859000>\n",
      "CTRL + CALLABLE\n",
      "Warning: omitting streams for designs\n",
      "True\n",
      "Overlay to load: /home/xilinx/ae/div-32/divider.xclbin\n",
      "<pynq.pl_server.embedded_device.EmbeddedDevice object at 0xffff84859000>\n",
      "CTRL + CALLABLE\n",
      "Warning: omitting streams for designs\n",
      "True\n",
      "Overlay to load: /home/xilinx/ae/div-64/divider.xclbin\n",
      "<pynq.pl_server.embedded_device.EmbeddedDevice object at 0xffff84859000>\n",
      "CTRL + CALLABLE\n",
      "Warning: omitting streams for designs\n",
      "True\n"
     ]
    }
   ],
   "source": [
    "\n",
    "\n",
    "\n",
    "for n in [8, 16, 32, 64]: # [8, 16, 32, 64]:\n",
    "    LEN = n\n",
    "    \n",
    "    ol_name = \"/home/xilinx/{}/div-{}/divider.xclbin\".format(SOURCE, n)\n",
    "    print(\"Overlay to load: {}\".format(ol_name))\n",
    "    ol = Overlay(ol_name)\n",
    "\n",
    "    dividend = pynq.allocate((LEN, ), np.uint64, target=ol.HP0)\n",
    "    dividend[:] = 31720\n",
    "    divisor  = pynq.allocate((LEN, ), np.uint64, target=ol.HP0)\n",
    "    divisor[:] = np.arange(1, 31720)[:LEN]\n",
    "    \n",
    "    quotient  = pynq.allocate((LEN, ), np.uint64, target=ol.HP0)\n",
    "    \n",
    "    dividend.sync_to_device()\n",
    "    divisor.sync_to_device()\n",
    "    \n",
    "    \n",
    "    starter = ol.mms_1\n",
    "    handle = starter.start(dividend, divisor, quotient, LEN, LEN)\n",
    "    handle.wait()\n",
    "    \n",
    "    quotient.sync_from_device()\n",
    "    \n",
    "    if n == 8:\n",
    "        dividend=np.bitwise_and(dividend, 0xff)\n",
    "    elif n == 16:\n",
    "        dividend=np.bitwise_and(dividend, 0xffff)\n",
    "    elif n == 32:\n",
    "        dividend=np.bitwise_and(dividend, 0xffffffff)\n",
    "        \n",
    "    \n",
    "    if n == 8:\n",
    "        divisor=np.bitwise_and(divisor, 0xff)\n",
    "    elif n == 16:\n",
    "        divisor=np.bitwise_and(divisor, 0xffff)\n",
    "    elif n == 32:\n",
    "        divisor=np.bitwise_and(divisor, 0xffffffff)\n",
    "    quotient_golden = dividend//divisor\n",
    "    \n",
    "    if n == 8:\n",
    "        quotient =np.bitwise_and(quotient, 0xff)\n",
    "    elif n == 16:\n",
    "        quotient =np.bitwise_and(quotient, 0xffff)\n",
    "    elif n == 32:\n",
    "        quotient =np.bitwise_and(quotient, 0xffffffff)\n",
    "        \n",
    "    print(np.all(quotient == quotient_golden))\n",
    "    \n",
    "    \n",
    "    "
   ]
  },
  {
   "cell_type": "code",
   "execution_count": null,
   "id": "2711a8a6",
   "metadata": {},
   "outputs": [],
   "source": []
  },
  {
   "cell_type": "code",
   "execution_count": null,
   "id": "ec0fbc0d",
   "metadata": {},
   "outputs": [],
   "source": []
  },
  {
   "cell_type": "code",
   "execution_count": null,
   "id": "1e03255e",
   "metadata": {},
   "outputs": [],
   "source": []
  },
  {
   "cell_type": "code",
   "execution_count": null,
   "id": "8b7b43ff",
   "metadata": {},
   "outputs": [],
   "source": []
  },
  {
   "cell_type": "code",
   "execution_count": null,
   "id": "16004960",
   "metadata": {},
   "outputs": [],
   "source": []
  },
  {
   "cell_type": "code",
   "execution_count": null,
   "id": "920ef736",
   "metadata": {},
   "outputs": [],
   "source": []
  },
  {
   "cell_type": "code",
   "execution_count": null,
   "id": "378d367b",
   "metadata": {},
   "outputs": [],
   "source": []
  },
  {
   "cell_type": "code",
   "execution_count": null,
   "id": "4a3e601e",
   "metadata": {},
   "outputs": [],
   "source": []
  },
  {
   "cell_type": "code",
   "execution_count": null,
   "id": "b19923cf",
   "metadata": {},
   "outputs": [],
   "source": []
  },
  {
   "cell_type": "code",
   "execution_count": null,
   "id": "ab1459b8",
   "metadata": {},
   "outputs": [],
   "source": []
  },
  {
   "cell_type": "code",
   "execution_count": null,
   "id": "54691597",
   "metadata": {},
   "outputs": [],
   "source": []
  },
  {
   "cell_type": "code",
   "execution_count": null,
   "id": "78b8f072",
   "metadata": {},
   "outputs": [],
   "source": []
  },
  {
   "cell_type": "code",
   "execution_count": null,
   "id": "ec527647",
   "metadata": {},
   "outputs": [],
   "source": []
  },
  {
   "cell_type": "code",
   "execution_count": null,
   "id": "03b68887",
   "metadata": {},
   "outputs": [],
   "source": []
  },
  {
   "cell_type": "code",
   "execution_count": null,
   "id": "1d12fc51",
   "metadata": {},
   "outputs": [],
   "source": []
  }
 ],
 "metadata": {
  "kernelspec": {
   "display_name": "Python 3 (ipykernel)",
   "language": "python",
   "name": "python3"
  },
  "language_info": {
   "codemirror_mode": {
    "name": "ipython",
    "version": 3
   },
   "file_extension": ".py",
   "mimetype": "text/x-python",
   "name": "python",
   "nbconvert_exporter": "python",
   "pygments_lexer": "ipython3",
   "version": "3.10.4"
  }
 },
 "nbformat": 4,
 "nbformat_minor": 5
}
